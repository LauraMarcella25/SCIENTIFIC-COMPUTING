{
  "nbformat": 4,
  "nbformat_minor": 0,
  "metadata": {
    "colab": {
      "provenance": [],
      "authorship_tag": "ABX9TyN3nhcd8gV5HCr24BG15V3q",
      "include_colab_link": true
    },
    "kernelspec": {
      "name": "python3",
      "display_name": "Python 3"
    },
    "language_info": {
      "name": "python"
    }
  },
  "cells": [
    {
      "cell_type": "markdown",
      "metadata": {
        "id": "view-in-github",
        "colab_type": "text"
      },
      "source": [
        "<a href=\"https://colab.research.google.com/github/LauraMarcella25/SCIENTIFIC-COMPUTING/blob/main/modul2_Laura%20Marcella.ipynb\" target=\"_parent\"><img src=\"https://colab.research.google.com/assets/colab-badge.svg\" alt=\"Open In Colab\"/></a>"
      ]
    },
    {
      "cell_type": "code",
      "execution_count": 1,
      "metadata": {
        "id": "35K2yMrTtoCu"
      },
      "outputs": [],
      "source": [
        "import numpy as np\n",
        "import matplotlib.pyplot as plt"
      ]
    },
    {
      "cell_type": "code",
      "source": [
        "def gauss_seidel(A, B, x_init, tol=1e-3, max_iter=100):\n",
        "    n = len(B)\n",
        "    x = np.array(x_init, dtype=float)\n",
        "    for _ in range(max_iter):\n",
        "        x_old = np.copy(x)\n",
        "        for i in range(n):\n",
        "            sum_ = sum(A[i][j] * x[j] for j in range(n) if j != i)\n",
        "            x[i] = (B[i] - sum_) / A[i][i]\n",
        "        if np.linalg.norm(x - x_old, ord=np.inf) < tol:\n",
        "            return x\n",
        "    return x"
      ],
      "metadata": {
        "id": "8sNlep-StuZm"
      },
      "execution_count": 31,
      "outputs": []
    },
    {
      "cell_type": "code",
      "source": [
        "# 1a: Sistem Persamaan Pertama dengan Gauss-Seidel\n",
        "A1 = np.array([[2, 3, -1], [1, -1, 2], [3, 2, 1]], dtype=float)\n",
        "B1 = np.array([10, 4, 14], dtype=float)\n",
        "x_init1 = [0, 0, 0]\n",
        "solution1 = gauss_seidel(A1, B1, x_init1)\n",
        "print(\"Hasil Gauss-Seidel untuk Sistem 1:\", solution1)"
      ],
      "metadata": {
        "colab": {
          "base_uri": "https://localhost:8080/"
        },
        "id": "YPxA7UKcvf0b",
        "outputId": "b77928f0-1b37-410c-fa1d-701b6436f368"
      },
      "execution_count": 30,
      "outputs": [
        {
          "output_type": "stream",
          "name": "stdout",
          "text": [
            "Hasil Gauss-Seidel untuk Sistem 1: [-8.85379963e+93 -2.65613989e+94  7.96841967e+94]\n"
          ]
        }
      ]
    },
    {
      "cell_type": "code",
      "source": [
        "# 1b: Menggunakan NumPy\n",
        "solution1_np = np.linalg.solve(A1, B1)\n",
        "print(\"Hasil NumPy untuk Sistem 1:\", solution1_np)"
      ],
      "metadata": {
        "colab": {
          "base_uri": "https://localhost:8080/"
        },
        "id": "17wrAlLguOYw",
        "outputId": "bd401208-5150-4860-f1c9-637c9f4c8a6e"
      },
      "execution_count": 4,
      "outputs": [
        {
          "output_type": "stream",
          "name": "stdout",
          "text": [
            "Hasil NumPy untuk Sistem 1: [0.65 4.15 3.75]\n"
          ]
        }
      ]
    },
    {
      "cell_type": "code",
      "source": [
        "# 2a: Sistem Persamaan Kedua dengan Gauss-Seidel\n",
        "A2 = np.array([[3, -0.1, -0.2], [0.1, 7, -0.3], [0.3, -0.2, 10]], dtype=float)\n",
        "B2 = np.array([7.85, -19.3, 71.4], dtype=float)\n",
        "x_init2 = [1, 2, 3]\n",
        "solution2 = gauss_seidel(A2, B2, x_init2)\n",
        "print(\"Hasil Gauss-Seidel untuk Sistem 2:\", solution2)"
      ],
      "metadata": {
        "colab": {
          "base_uri": "https://localhost:8080/"
        },
        "id": "pRFUdBIQuTHp",
        "outputId": "9bad31a7-6af3-4e54-9356-5e28914cf588"
      },
      "execution_count": 6,
      "outputs": [
        {
          "output_type": "stream",
          "name": "stdout",
          "text": [
            "Hasil Gauss-Seidel untuk Sistem 2: [ 3.00000022 -2.50000002  6.99999999]\n"
          ]
        }
      ]
    },
    {
      "cell_type": "code",
      "source": [
        "# 2b: Menggunakan NumPy\n",
        "solution2_np = np.linalg.solve(A2, B2)\n",
        "print(\"Hasil NumPy untuk Sistem 2:\", solution2_np)"
      ],
      "metadata": {
        "colab": {
          "base_uri": "https://localhost:8080/"
        },
        "id": "rRFISg2OuXpl",
        "outputId": "5ae6454f-78b9-4ae2-dce1-86c3733a8597"
      },
      "execution_count": 7,
      "outputs": [
        {
          "output_type": "stream",
          "name": "stdout",
          "text": [
            "Hasil NumPy untuk Sistem 2: [ 3.  -2.5  7. ]\n"
          ]
        }
      ]
    },
    {
      "cell_type": "code",
      "source": [
        "# 3a: Least Squares Regression\n",
        "X = np.array([5, 4, 6, 7, 5])\n",
        "Y = np.array([10, 8, 12, 14, 10])\n",
        "n = len(X)\n",
        "a = (n * np.sum(X * Y) - np.sum(X) * np.sum(Y)) / (n * np.sum(X**2) - np.sum(X)**2)\n",
        "b = (np.sum(Y) - a * np.sum(X)) / n\n",
        "print(f\"Regresi Linear: y = {a:.4f}x + {b:.4f}\")"
      ],
      "metadata": {
        "colab": {
          "base_uri": "https://localhost:8080/"
        },
        "id": "-cU-1rJYucvx",
        "outputId": "5af0dab9-c0a6-475f-993f-e187bf8028ef"
      },
      "execution_count": 8,
      "outputs": [
        {
          "output_type": "stream",
          "name": "stdout",
          "text": [
            "Regresi Linear: y = 2.0000x + 0.0000\n"
          ]
        }
      ]
    },
    {
      "cell_type": "code",
      "source": [
        "# 3b: Plot Hasil Regresi\n",
        "plt.scatter(X, Y, color='red', label='Data')\n",
        "plt.plot(X, a * X + b, color='blue', label=f'Regresi Linear: y={a:.2f}x+{b:.2f}')\n",
        "plt.xlabel('X')\n",
        "plt.ylabel('Y')\n",
        "plt.legend()\n",
        "plt.grid()\n",
        "plt.show()"
      ],
      "metadata": {
        "colab": {
          "base_uri": "https://localhost:8080/",
          "height": 449
        },
        "id": "MywoppB3uhBu",
        "outputId": "5e972cfe-fe0a-4840-e79a-891a92a74575"
      },
      "execution_count": 9,
      "outputs": [
        {
          "output_type": "display_data",
          "data": {
            "text/plain": [
              "<Figure size 640x480 with 1 Axes>"
            ],
            "image/png": "[encoded data removed]"
          },
          "metadata": {}
        }
      ]
    }
  ]
}