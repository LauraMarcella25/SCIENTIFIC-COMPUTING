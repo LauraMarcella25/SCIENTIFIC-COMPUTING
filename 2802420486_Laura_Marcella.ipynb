{
  "nbformat": 4,
  "nbformat_minor": 0,
  "metadata": {
    "colab": {
      "provenance": [],
      "authorship_tag": "ABX9TyPWWJGMVGu5gH7XJkRLV0hA",
      "include_colab_link": true
    },
    "kernelspec": {
      "name": "python3",
      "display_name": "Python 3"
    },
    "language_info": {
      "name": "python"
    }
  },
  "cells": [
    {
      "cell_type": "markdown",
      "metadata": {
        "id": "view-in-github",
        "colab_type": "text"
      },
      "source": [
        "<a href=\"https://colab.research.google.com/github/LauraMarcella25/SCIENTIFIC-COMPUTING/blob/main/2802420486_Laura_Marcella.ipynb\" target=\"_parent\"><img src=\"https://colab.research.google.com/assets/colab-badge.svg\" alt=\"Open In Colab\"/></a>"
      ]
    },
    {
      "cell_type": "code",
      "source": [
        "def login():\n",
        "    username = \"laura\"\n",
        "    password = \"Bn123\"\n",
        "\n",
        "    while True:\n",
        "        userinput = input(\"Masukan username anda : \")\n",
        "        passinput = input(\"Masukan password anda : \")\n",
        "\n",
        "        if userinput == username and passinput == password:\n",
        "            print(f\"Login berhasil, Selamat datang {userinput} \\n\")\n",
        "            break\n",
        "        else:\n",
        "            print(\"Incorrect Password\")"
      ],
      "metadata": {
        "id": "8zMJQv81M-ma"
      },
      "execution_count": 39,
      "outputs": []
    },
    {
      "cell_type": "code",
      "source": [
        "def perhitungan(uas, uts, asg):\n",
        "    return (0.5 * uas) + (0.3 * uts) + (0.2 * asg)"
      ],
      "metadata": {
        "id": "cu3WKnZBOgZw"
      },
      "execution_count": 40,
      "outputs": []
    },
    {
      "cell_type": "code",
      "source": [
        "def grade(score):\n",
        "    if score >= 90:\n",
        "        return 'A'\n",
        "    elif score >= 85:\n",
        "        return 'A-'\n",
        "    elif score >= 80:\n",
        "        return 'B+'\n",
        "    elif score >= 75:\n",
        "        return 'B'\n",
        "    elif score >= 70:\n",
        "        return 'C'\n",
        "    elif score >= 50:\n",
        "        return 'D'\n",
        "    elif score >= 1:\n",
        "        return 'E'\n",
        "    else:\n",
        "        return 'F'"
      ],
      "metadata": {
        "id": "jojKX33XO7VI"
      },
      "execution_count": 41,
      "outputs": []
    },
    {
      "cell_type": "code",
      "source": [
        "\n",
        "def main():\n",
        "    login()\n",
        "    namasiswa = input(\"Masukan nama siswa : \")\n",
        "    uas = float(input(\"Masukan Nilai UAS : \"))\n",
        "    uts = float(input(\"Masukan Nilai UTS : \"))\n",
        "    asg = float(input(\"Masukan Nilai Assignment : \"))\n",
        "\n",
        "    score = perhitungan(uas, uts, asg)\n",
        "    gradefinal = grade(score)\n",
        "\n",
        "    print(\"================================================\")\n",
        "    print(f\"Hasil Perolehan Nilai {namasiswa}\")\n",
        "    print(f\"Final Score : {score:.1f}\")\n",
        "    print(f\"Grade {gradefinal}\")"
      ],
      "metadata": {
        "id": "M-cxi5qZPq9u"
      },
      "execution_count": 47,
      "outputs": []
    },
    {
      "cell_type": "code",
      "source": [
        "if __name__ == \"__main__\":\n",
        "    main()"
      ],
      "metadata": {
        "id": "fNWbyAonYzU_",
        "colab": {
          "base_uri": "https://localhost:8080/"
        },
        "outputId": "c159d47a-5143-4a0d-ac23-2f0e8fe5582b"
      },
      "execution_count": 48,
      "outputs": [
        {
          "output_type": "stream",
          "name": "stdout",
          "text": [
            "Masukan username anda : laura\n",
            "Masukan password anda : Bn123\n",
            "Login berhasil, Selamat datang laura \n",
            "\n",
            "Masukan nama siswa : budi\n",
            "Masukan Nilai UAS : 90\n",
            "Masukan Nilai UTS : 75\n",
            "Masukan Nilai Assignment : 98\n",
            "================================================\n",
            "Hasil Perolehan Nilai budi\n",
            "Final Score : 87.1\n",
            "Grade A-\n"
          ]
        }
      ]
    }
  ]
}