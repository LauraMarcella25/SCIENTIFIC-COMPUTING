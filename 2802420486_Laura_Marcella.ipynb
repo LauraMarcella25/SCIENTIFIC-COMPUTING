{
  "nbformat": 4,
  "nbformat_minor": 0,
  "metadata": {
    "colab": {
      "provenance": [],
      "authorship_tag": "ABX9TyO8rPhfv0j5hhYSQUZYLoMu",
      "include_colab_link": true
    },
    "kernelspec": {
      "name": "python3",
      "display_name": "Python 3"
    },
    "language_info": {
      "name": "python"
    }
  },
  "cells": [
    {
      "cell_type": "markdown",
      "metadata": {
        "id": "view-in-github",
        "colab_type": "text"
      },
      "source": [
        "<a href=\"https://colab.research.google.com/github/LauraMarcella25/SCIENTIFIC-COMPUTING/blob/main/2802420486_Laura_Marcella.ipynb\" target=\"_parent\"><img src=\"https://colab.research.google.com/assets/colab-badge.svg\" alt=\"Open In Colab\"/></a>"
      ]
    },
    {
      "cell_type": "code",
      "execution_count": null,
      "metadata": {
        "colab": {
          "base_uri": "https://localhost:8080/"
        },
        "id": "AIQfB7GK2XdL",
        "outputId": "d418fd1a-91ab-475f-9642-1cedc1eed9b8"
      },
      "outputs": [
        {
          "output_type": "stream",
          "name": "stdout",
          "text": [
            "1.9835235375094546\n",
            "0.01647646249054535\n",
            "1.9835235375094546\n",
            "0.01647646249054535\n",
            "2.0082484079079745\n",
            "-0.008248407907974542\n"
          ]
        }
      ],
      "source": [
        "import numpy as np\n",
        "\n",
        "a=0\n",
        "b=np.pi\n",
        "n=11\n",
        "h=(b-a)/(n-1)\n",
        "x=np.linspace(a, b, n)\n",
        "f=np.sin(x)\n",
        "\n",
        "I_riemannL=h*sum(f[:n-1])\n",
        "err_riemannL=2-I_riemannL\n",
        "\n",
        "I_riemannR=h*sum(f[1::1])\n",
        "err_riemannR=2-I_riemannR\n",
        "\n",
        "I_mid=h*sum(np.sin((x[:n-1]\\\n",
        "                    +x[1:])/2))\n",
        "err_mid=2-I_mid\n",
        "\n",
        "print(I_riemannL)\n",
        "print(err_riemannL)\n",
        "\n",
        "print(I_riemannR)\n",
        "print(err_riemannR)\n",
        "\n",
        "print(I_mid)\n",
        "print(err_mid)"
      ]
    },
    {
      "cell_type": "code",
      "source": [
        "import numpy as np\n",
        "\n",
        "a=0\n",
        "b=np.pi\n",
        "n=11\n",
        "h=(b-a)/(n-1)\n",
        "x=np.linspace(a, b, n)\n",
        "f=np.sin(x)\n",
        "\n",
        "I_trap=(h/2)*(f[0]+\\\n",
        "              2*sum(f[1:n-1])+f[n-1])\n",
        "err_trap=2-I_trap\n",
        "\n",
        "print(I_trap)\n",
        "print(err_trap)"
      ],
      "metadata": {
        "colab": {
          "base_uri": "https://localhost:8080/"
        },
        "id": "WUjnE-xO9SFD",
        "outputId": "ca15ff82-0636-4487-d4ed-c7e3a5005db5"
      },
      "execution_count": 16,
      "outputs": [
        {
          "output_type": "stream",
          "name": "stdout",
          "text": [
            "1.9835235375094546\n",
            "0.01647646249054535\n"
          ]
        }
      ]
    },
    {
      "cell_type": "code",
      "source": [
        "import numpy as np\n",
        "from scipy.integrate import trapezoid\n",
        "\n",
        "a=0\n",
        "b=np.pi\n",
        "n=11\n",
        "h=(b-a)/(n-1)\n",
        "x=np.linspace(a, b, n)\n",
        "f=np.sin(x)\n",
        "\n",
        "I_trapz=trapezoid(f, x)\n",
        "I_trap=(h/2)*(f[0]+2*sum(f[1:n-1])+f[n-1])\n",
        "\n",
        "print(I_trapz)\n",
        "print(I_trap)"
      ],
      "metadata": {
        "colab": {
          "base_uri": "https://localhost:8080/"
        },
        "id": "g7B_SCGT9THe",
        "outputId": "21cde0bd-7c58-495b-817c-98b90cdece19"
      },
      "execution_count": 18,
      "outputs": [
        {
          "output_type": "stream",
          "name": "stdout",
          "text": [
            "1.9835235375094544\n",
            "1.9835235375094546\n"
          ]
        }
      ]
    }
  ]
}